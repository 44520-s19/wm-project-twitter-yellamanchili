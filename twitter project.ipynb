{
 "cells": [
  {
   "cell_type": "code",
   "execution_count": null,
   "metadata": {},
   "outputs": [],
   "source": [
    "import tweepy\n",
    "from twitter_keys import consumer_key, consumer_secret, access_token, access_secret\n",
    "auth = tweepy.OAuthHandler(consumer_key,consumer_secret)\n",
    "auth.set_access_token(access_token, access_secret)\n",
    "\n",
    "api = tweepy.API(auth)\n",
    "import pickle\n",
    "wr_tweets = api.user_timeline('WayneRooney')\n",
    "jl_tweets = api.user_timeline('JesseLingard')\n",
    "mr_tweets = api.user_timeline('MarcusRashford')\n",
    "\n",
    "with open('waynerooney_tweets.pkl', 'wb') as f:\n",
    "    pickle.dump(public_tweets, f)\n",
    "    \n",
    "with open('jesselingard_tweets.pkl', 'wb') as f:\n",
    "    pickle.dump(public_tweets, f)\n",
    "    \n",
    "with open('marcusrashford_tweets.pkl', 'wb') as f:\n",
    "    pickle.dump(public_tweets, f)"
   ]
  }
 ],
 "metadata": {
  "kernelspec": {
   "display_name": "Python 3",
   "language": "python",
   "name": "python3"
  },
  "language_info": {
   "codemirror_mode": {
    "name": "ipython",
    "version": 3
   },
   "file_extension": ".py",
   "mimetype": "text/x-python",
   "name": "python",
   "nbconvert_exporter": "python",
   "pygments_lexer": "ipython3",
   "version": "3.7.3"
  }
 },
 "nbformat": 4,
 "nbformat_minor": 2
}
